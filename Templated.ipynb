{
 "cells": [
  {
   "cell_type": "markdown",
   "metadata": {},
   "source": [
    "# Standard Packages\n",
    "Packages/Library are made up of modules (See video on OOP and modules)\n",
    "Modules are made up of classes,functions and methods\n",
    "See Notes on 'Importing  modules'\n",
    "help(package name) for more info on modules"
   ]
  },
  {
   "cell_type": "code",
   "execution_count": 1,
   "metadata": {},
   "outputs": [],
   "source": [
    "import math as m #mathematical operators\n",
    "\n",
    "# part of Scipy library\n",
    "import numpy as np #to work with multidimensional arrays\n",
    "import pandas as pd #PANel DAta, organise arrays in tables and attach descriptive labels, time series and big database\n",
    "import matplotlib.pyplot as plt #2D plotting visuals of numpy computation\n",
    "\n",
    "import random as rand #random number generator\n",
    "import statsmodels as sm #descriptive stats & regressions\n",
    "\n",
    "import pandas_datareader as pd\n",
    "from pandas_datareader import data as wb"
   ]
  },
  {
   "cell_type": "markdown",
   "metadata": {},
   "source": [
    "Importing data"
   ]
  },
  {
   "cell_type": "code",
   "execution_count": 1,
   "metadata": {
    "jupyter": {
     "source_hidden": true
    }
   },
   "outputs": [],
   "source": [
    "#\n",
    "from pandas_datareader import data as wb\n",
    "dataF=wb.DataReader('F',data_source='yahoo', start='1995-1-1') \n",
    "#data_holder = wb.DataReader('ticker', data_source='source', start='yyyy-m-d')\n",
    "#proctor and gamble = \"PG\" / apple = \"AAPL\"\n",
    "#data sources \"yahoo\" \"iex\" \"quandl\""
   ]
  },
  {
   "cell_type": "markdown",
   "metadata": {},
   "source": [
    "Data cleanliness check"
   ]
  },
  {
   "cell_type": "code",
   "execution_count": null,
   "metadata": {},
   "outputs": [],
   "source": [
    "data_holder.info() #check that data types are consistent, same number of observations, \n",
    "data_holder.head(n) #first n rows\n",
    "data_holder.tail(n) #last n rows, go to yahoo finance to check accoracy of data"
   ]
  },
  {
   "cell_type": "markdown",
   "metadata": {},
   "source": [
    "importing multiple similiar data (adjusted closing price) for multiple tickers (apple, p&g, microsoft and Ford)"
   ]
  },
  {
   "cell_type": "code",
   "execution_count": 13,
   "metadata": {
    "collapsed": true,
    "jupyter": {
     "outputs_hidden": true
    }
   },
   "outputs": [
    {
     "data": {
      "text/html": [
       "<div>\n",
       "<style scoped>\n",
       "    .dataframe tbody tr th:only-of-type {\n",
       "        vertical-align: middle;\n",
       "    }\n",
       "\n",
       "    .dataframe tbody tr th {\n",
       "        vertical-align: top;\n",
       "    }\n",
       "\n",
       "    .dataframe thead th {\n",
       "        text-align: right;\n",
       "    }\n",
       "</style>\n",
       "<table border=\"1\" class=\"dataframe\">\n",
       "  <thead>\n",
       "    <tr style=\"text-align: right;\">\n",
       "      <th></th>\n",
       "      <th>AAPL</th>\n",
       "      <th>PG</th>\n",
       "      <th>MSFT</th>\n",
       "      <th>F</th>\n",
       "    </tr>\n",
       "    <tr>\n",
       "      <th>Date</th>\n",
       "      <th></th>\n",
       "      <th></th>\n",
       "      <th></th>\n",
       "      <th></th>\n",
       "    </tr>\n",
       "  </thead>\n",
       "  <tbody>\n",
       "    <tr>\n",
       "      <th>2020-12-22</th>\n",
       "      <td>131.880005</td>\n",
       "      <td>136.550003</td>\n",
       "      <td>223.940002</td>\n",
       "      <td>8.79</td>\n",
       "    </tr>\n",
       "    <tr>\n",
       "      <th>2020-12-23</th>\n",
       "      <td>130.960007</td>\n",
       "      <td>136.339996</td>\n",
       "      <td>221.020004</td>\n",
       "      <td>8.99</td>\n",
       "    </tr>\n",
       "    <tr>\n",
       "      <th>2020-12-24</th>\n",
       "      <td>131.970001</td>\n",
       "      <td>137.720001</td>\n",
       "      <td>222.750000</td>\n",
       "      <td>8.86</td>\n",
       "    </tr>\n",
       "    <tr>\n",
       "      <th>2020-12-28</th>\n",
       "      <td>136.690002</td>\n",
       "      <td>138.679993</td>\n",
       "      <td>224.960007</td>\n",
       "      <td>8.89</td>\n",
       "    </tr>\n",
       "    <tr>\n",
       "      <th>2020-12-29</th>\n",
       "      <td>134.869995</td>\n",
       "      <td>138.419998</td>\n",
       "      <td>224.149994</td>\n",
       "      <td>8.82</td>\n",
       "    </tr>\n",
       "  </tbody>\n",
       "</table>\n",
       "</div>"
      ],
      "text/plain": [
       "                  AAPL          PG        MSFT     F\n",
       "Date                                                \n",
       "2020-12-22  131.880005  136.550003  223.940002  8.79\n",
       "2020-12-23  130.960007  136.339996  221.020004  8.99\n",
       "2020-12-24  131.970001  137.720001  222.750000  8.86\n",
       "2020-12-28  136.690002  138.679993  224.960007  8.89\n",
       "2020-12-29  134.869995  138.419998  224.149994  8.82"
      ]
     },
     "execution_count": 13,
     "metadata": {},
     "output_type": "execute_result"
    }
   ],
   "source": [
    "from pandas_datareader import data as wb\n",
    "tickers=['AAPL', 'PG','MSFT','F'] #create list of tickers\n",
    "new_Data=pd.DataFrame()\n",
    "for t in tickers:\n",
    "    new_Data[t] = wb.DataReader(t,data_source='yahoo',start='1995-1-1')['Adj Close']\n",
    "new_Data.tail()"
   ]
  },
  {
   "cell_type": "markdown",
   "metadata": {},
   "source": [
    "Working with quandl\n",
    "\n",
    "If you would like to make more than 50 calls a day, however, you will need to create a free Quandl account and set your API key:\n",
    "quandl.ApiConfig.api_key = \"YOUR_KEY_HERE\""
   ]
  },
  {
   "cell_type": "code",
   "execution_count": 6,
   "metadata": {
    "jupyter": {
     "source_hidden": true
    }
   },
   "outputs": [],
   "source": [
    "import quandl\n",
    "quandl.ApiConfig.api_key = \"VnjB7U91dhxsa2UT_iRd\"\n",
    "mydata = quandl.get(\"FRED/GDP\")"
   ]
  },
  {
   "cell_type": "markdown",
   "metadata": {},
   "source": [
    "### Calculate log returns and store in array (see T3_risk)"
   ]
  },
  {
   "cell_type": "code",
   "execution_count": null,
   "metadata": {},
   "outputs": [],
   "source": [
    "risk_returns= np.log(sec_Data/sec_Data.shift(1))"
   ]
  },
  {
   "cell_type": "markdown",
   "metadata": {},
   "source": [
    "### Formatting text\n",
    "\n",
    "Reference:\n",
    "- https://www.earthdatascience.org/courses/intro-to-earth-data-science/file-formats/use-text-files/format-text-with-markdown-jupyter-notebook/"
   ]
  },
  {
   "cell_type": "code",
   "execution_count": null,
   "metadata": {},
   "outputs": [],
   "source": []
  },
  {
   "cell_type": "code",
   "execution_count": null,
   "metadata": {},
   "outputs": [],
   "source": []
  }
 ],
 "metadata": {
  "kernelspec": {
   "display_name": "Python 3",
   "language": "python",
   "name": "python3"
  },
  "language_info": {
   "codemirror_mode": {
    "name": "ipython",
    "version": 3
   },
   "file_extension": ".py",
   "mimetype": "text/x-python",
   "name": "python",
   "nbconvert_exporter": "python",
   "pygments_lexer": "ipython3",
   "version": "3.7.6"
  }
 },
 "nbformat": 4,
 "nbformat_minor": 4
}
