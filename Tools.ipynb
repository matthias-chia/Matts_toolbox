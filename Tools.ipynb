{
 "cells": [
  {
   "cell_type": "markdown",
   "metadata": {},
   "source": [
    "Lists, tuples, dictionaries and arrays"
   ]
  },
  {
   "cell_type": "code",
   "execution_count": null,
   "metadata": {},
   "outputs": [],
   "source": []
  },
  {
   "cell_type": "code",
   "execution_count": null,
   "metadata": {},
   "outputs": [],
   "source": []
  },
  {
   "cell_type": "markdown",
   "metadata": {},
   "source": [
    "Importing packages"
   ]
  },
  {
   "cell_type": "code",
   "execution_count": 1,
   "metadata": {},
   "outputs": [],
   "source": [
    "import math as m #mathematical operators\n",
    "# part of Scipy library\n",
    "import numpy as np #to work with multidimensional arrays\n",
    "import pandas as pd #PANel DAta, organise arrays in tables and attach descriptive labels, time series and big database\n",
    "import matplotlib as mp #2D plotting visuals of numpy computation\n",
    "import random as rand #random number generator\n",
    "import statsmodels as sm #descriptive stats & regressions\n",
    "import pandas_datareader as pdr "
   ]
  },
  {
   "cell_type": "markdown",
   "metadata": {},
   "source": [
    "Incrementing"
   ]
  },
  {
   "cell_type": "code",
   "execution_count": 2,
   "metadata": {},
   "outputs": [
    {
     "data": {
      "text/plain": [
       "[1, 3, 5, 7, 9, 11, 13, 15, 17, 19, 21, 23, 25, 27, 29]"
      ]
     },
     "execution_count": 2,
     "metadata": {},
     "output_type": "execute_result"
    }
   ],
   "source": [
    "#This code create a while loop that will print all odd numbers from 0 to 30 on the same row\n",
    "x=0\n",
    "oddN=[] #initiate list\n",
    "while x<= 30:\n",
    "    if x%2 != 0:\n",
    "        oddN.append(x)\n",
    "    x+=1\n",
    "oddN"
   ]
  },
  {
   "cell_type": "code",
   "execution_count": 12,
   "metadata": {},
   "outputs": [
    {
     "data": {
      "text/plain": [
       "[1, 3, 5, 7, 9, 11, 13, 15, 17, 19, 21, 23, 25, 27, 29]"
      ]
     },
     "execution_count": 12,
     "metadata": {},
     "output_type": "execute_result"
    }
   ],
   "source": [
    "#This code create a for-range loop that will print all odd numbers from 0 to 30 on the same row\n",
    "oddN=[] #initiate list\n",
    "\n",
    "for x in range(30):\n",
    "    if x%2 != 0:\n",
    "        oddN.append(x)\n",
    "\n",
    "oddN"
   ]
  },
  {
   "cell_type": "markdown",
   "metadata": {},
   "source": [
    "function to create lists of 6 items of random floats to 2 decimal points"
   ]
  },
  {
   "cell_type": "code",
   "execution_count": 13,
   "metadata": {
    "collapsed": true,
    "jupyter": {
     "outputs_hidden": true,
     "source_hidden": true
    }
   },
   "outputs": [
    {
     "data": {
      "text/plain": [
       "[0.42, 0.63, 0.74, 0.33, 0.44, 0.12]"
      ]
     },
     "execution_count": 13,
     "metadata": {},
     "output_type": "execute_result"
    }
   ],
   "source": [
    "import random as rand\n",
    "\n",
    "a=[]\n",
    "def sixN(list):\n",
    "    x=0\n",
    "    while x<6:\n",
    "        list.append(round(rand.random(),2))\n",
    "        x+=1\n",
    "    return list\n",
    "sixN(a)\n",
    "\n",
    "#r=rand.random()\n",
    "#r=round(rand.random(),2)\n",
    "#r=rand.randrange(0,100.00) #integers\n",
    "#r=round(rand.randrange(0,100),2)"
   ]
  },
  {
   "cell_type": "markdown",
   "metadata": {},
   "source": [
    "create a axb size matrix of random integers"
   ]
  },
  {
   "cell_type": "code",
   "execution_count": 19,
   "metadata": {
    "collapsed": true,
    "jupyter": {
     "outputs_hidden": true,
     "source_hidden": true
    }
   },
   "outputs": [
    {
     "data": {
      "text/plain": [
       "array([[13,  2,  4,  7, 14],\n",
       "       [11, 19, 19, 11,  9],\n",
       "       [ 7, 17, 18,  5,  5]])"
      ]
     },
     "execution_count": 19,
     "metadata": {},
     "output_type": "execute_result"
    }
   ],
   "source": [
    "#import random as rand\n",
    "import numpy as np\n",
    "\n",
    "np.random.randint(1,20,(3,5)) #np.random.randint(start,stop,(a,b))"
   ]
  },
  {
   "cell_type": "markdown",
   "metadata": {},
   "source": [
    "Working with data in .csv"
   ]
  },
  {
   "cell_type": "code",
   "execution_count": null,
   "metadata": {},
   "outputs": [],
   "source": [
    "import pandas as pd\n",
    "data_holder.to_csv('/Users/mchh/Documents/data_01.csv') # ('location/file_name.csv')\n",
    "myData_02 = pd.read_csv('/Users/mchh/Documents/99_Workings/Data_02.csv') # no funny symbols and the file name must be as simple as possible\n",
    "myData_02.to_excel('/Users/mchh/Documents/99_Workings/Data_02_exp.xlsx') #save data to .xlsx\n",
    "myData_03 = pd.read_excel('/Users/mchh/Documents/99_Workings/Data_02_exp.xlsx', index_col='Date') #read .xlsx data\n",
    "#changing index in .csv, see above"
   ]
  },
  {
   "cell_type": "markdown",
   "metadata": {},
   "source": [
    "Dictionaries"
   ]
  },
  {
   "cell_type": "code",
   "execution_count": 1,
   "metadata": {},
   "outputs": [],
   "source": [
    "Menu = {'meal_1':'Spaghetti', 'meal_2':'Fries', 'meal_3':'Hamburger', 'meal_4':'Lasagna'}"
   ]
  },
  {
   "cell_type": "markdown",
   "metadata": {},
   "source": [
    "Generating an array of n objects with (random weights/numbers adding up to 1)\n",
    "\n",
    "normal array vs numpy array\n",
    "https://webcourses.ucf.edu/courses/1249560/pages/python-lists-vs-numpy-arrays-what-is-the-difference#:~:text=Numpy%20is%20the%20core%20library%20for%20scientific%20computing%20in%20Python.&text=A%20numpy%20array%20is%20a,the%20array%20along%20each%20dimension."
   ]
  },
  {
   "cell_type": "code",
   "execution_count": 16,
   "metadata": {},
   "outputs": [
    {
     "name": "stdout",
     "output_type": "stream",
     "text": [
      "[0.59625303 0.40374697]\n",
      "1.0\n"
     ]
    }
   ],
   "source": [
    "#random weights using a numpy array for n objects\n",
    "import numpy as np\n",
    "num = 2 #let n =2\n",
    "weights = np.random.random(num)\n",
    "weights /= np.sum(weights)\n",
    "print(weights)\n",
    "print(weights[0]+weights[1])"
   ]
  },
  {
   "cell_type": "code",
   "execution_count": 15,
   "metadata": {},
   "outputs": [
    {
     "data": {
      "text/plain": [
       "array([0.16666667, 0.16666667, 0.16666667, 0.16666667, 0.16666667,\n",
       "       0.16666667])"
      ]
     },
     "execution_count": 15,
     "metadata": {},
     "output_type": "execute_result"
    }
   ],
   "source": [
    "#Equal weights using a numpy array for n objects\n",
    "import numpy as np\n",
    "num = 6\n",
    "x=0\n",
    "a=[] #create a list\n",
    "while x< num: #fill list\n",
    "    a.append(1/num)\n",
    "    x+=1\n",
    "weights = np.array(a) #insert into array\n",
    "weights"
   ]
  },
  {
   "cell_type": "markdown",
   "metadata": {},
   "source": [
    "Using excel"
   ]
  },
  {
   "cell_type": "code",
   "execution_count": null,
   "metadata": {},
   "outputs": [],
   "source": [
    "import pandas as pd\n",
    "rncdf = pd.read_excel(\"RAILS_AND_CABLES_AND_PLATFORMS_AND_DEFECTS.xlsx\") #this imports the excel, change name to csv to import csv\n",
    "rncdf.to_excel(\"C:/Users/chinjooern/Desktop/TR/ADD-ONS/RAILS_AND_CABLES_AND_PLATFORMS_AND_DEFECTS_AND_COMPLETED_AND_WORNRAIL.xlsx\")   \n",
    "        #this exports to excel, can also change name to CSV if you want it in CSV\n"
   ]
  },
  {
   "cell_type": "markdown",
   "metadata": {},
   "source": [
    "Date and time\n",
    "\n",
    "https://stackabuse.com/how-to-format-dates-in-python/"
   ]
  },
  {
   "cell_type": "code",
   "execution_count": 2,
   "metadata": {},
   "outputs": [
    {
     "name": "stdout",
     "output_type": "stream",
     "text": [
      "2021\n",
      "Friday\n",
      "2020-05-17 00:00:00\n"
     ]
    }
   ],
   "source": [
    "import datetime\n",
    "\n",
    "x = datetime.datetime.now()\n",
    "print(x.year)\n",
    "print(x.strftime(\"%A\"))\n",
    "\n",
    "y = datetime.datetime(2020, 5, 17)\n",
    "print(y)\n",
    "\n"
   ]
  },
  {
   "cell_type": "code",
   "execution_count": 6,
   "metadata": {},
   "outputs": [
    {
     "name": "stdout",
     "output_type": "stream",
     "text": [
      "2021-02-12 12:32:49.002099\n",
      "2021-02-12\n"
     ]
    }
   ],
   "source": [
    "print(x)\n",
    "tdy = x.strftime(\"%Y-%m-%d\")\n",
    "print(tdy)"
   ]
  },
  {
   "cell_type": "code",
   "execution_count": null,
   "metadata": {},
   "outputs": [],
   "source": []
  }
 ],
 "metadata": {
  "kernelspec": {
   "display_name": "Python 3",
   "language": "python",
   "name": "python3"
  },
  "language_info": {
   "codemirror_mode": {
    "name": "ipython",
    "version": 3
   },
   "file_extension": ".py",
   "mimetype": "text/x-python",
   "name": "python",
   "nbconvert_exporter": "python",
   "pygments_lexer": "ipython3",
   "version": "3.7.6"
  }
 },
 "nbformat": 4,
 "nbformat_minor": 4
}
