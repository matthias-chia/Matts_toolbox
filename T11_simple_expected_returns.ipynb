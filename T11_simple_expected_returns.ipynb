{
 "cells": [
  {
   "cell_type": "markdown",
   "metadata": {},
   "source": [
    "### Simple Expected Rate of Return (Single security)\n",
    "Calculate the simple returns of Microsoft ‘MSFT’ for the given timeframe.\n",
    "$$\n",
    "\\frac{P_1 - P_0}{P_0} = \\frac{P_1}{P_0} - 1\n",
    "$$"
   ]
  },
  {
   "cell_type": "markdown",
   "metadata": {},
   "source": [
    "#### Import packages"
   ]
  },
  {
   "cell_type": "code",
   "execution_count": 1,
   "metadata": {},
   "outputs": [],
   "source": [
    "import numpy as np #to work with multidimensional arrays\n",
    "import pandas as pd #PANel DAta, organise arrays in tables and attach descriptive labels, time series and big database\n",
    "from pandas_datareader import data as wb\n",
    "import matplotlib.pyplot as plt\n",
    "import random as rand #random number generator"
   ]
  },
  {
   "cell_type": "markdown",
   "metadata": {},
   "source": [
    "##### Data extraction"
   ]
  },
  {
   "cell_type": "code",
   "execution_count": 4,
   "metadata": {},
   "outputs": [
    {
     "data": {
      "text/html": [
       "<div>\n",
       "<style scoped>\n",
       "    .dataframe tbody tr th:only-of-type {\n",
       "        vertical-align: middle;\n",
       "    }\n",
       "\n",
       "    .dataframe tbody tr th {\n",
       "        vertical-align: top;\n",
       "    }\n",
       "\n",
       "    .dataframe thead th {\n",
       "        text-align: right;\n",
       "    }\n",
       "</style>\n",
       "<table border=\"1\" class=\"dataframe\">\n",
       "  <thead>\n",
       "    <tr style=\"text-align: right;\">\n",
       "      <th></th>\n",
       "      <th>High</th>\n",
       "      <th>Low</th>\n",
       "      <th>Open</th>\n",
       "      <th>Close</th>\n",
       "      <th>Volume</th>\n",
       "      <th>Adj Close</th>\n",
       "    </tr>\n",
       "    <tr>\n",
       "      <th>Date</th>\n",
       "      <th></th>\n",
       "      <th></th>\n",
       "      <th></th>\n",
       "      <th></th>\n",
       "      <th></th>\n",
       "      <th></th>\n",
       "    </tr>\n",
       "  </thead>\n",
       "  <tbody>\n",
       "    <tr>\n",
       "      <th>2021-01-20</th>\n",
       "      <td>225.789993</td>\n",
       "      <td>217.289993</td>\n",
       "      <td>217.699997</td>\n",
       "      <td>224.339996</td>\n",
       "      <td>37777300.0</td>\n",
       "      <td>224.339996</td>\n",
       "    </tr>\n",
       "    <tr>\n",
       "      <th>2021-01-21</th>\n",
       "      <td>226.300003</td>\n",
       "      <td>222.419998</td>\n",
       "      <td>224.699997</td>\n",
       "      <td>224.970001</td>\n",
       "      <td>30749600.0</td>\n",
       "      <td>224.970001</td>\n",
       "    </tr>\n",
       "    <tr>\n",
       "      <th>2021-01-22</th>\n",
       "      <td>230.070007</td>\n",
       "      <td>225.800003</td>\n",
       "      <td>227.080002</td>\n",
       "      <td>225.949997</td>\n",
       "      <td>30124900.0</td>\n",
       "      <td>225.949997</td>\n",
       "    </tr>\n",
       "    <tr>\n",
       "      <th>2021-01-25</th>\n",
       "      <td>229.779999</td>\n",
       "      <td>224.220001</td>\n",
       "      <td>229.119995</td>\n",
       "      <td>229.529999</td>\n",
       "      <td>33152100.0</td>\n",
       "      <td>229.529999</td>\n",
       "    </tr>\n",
       "    <tr>\n",
       "      <th>2021-01-26</th>\n",
       "      <td>234.179993</td>\n",
       "      <td>230.080002</td>\n",
       "      <td>231.860001</td>\n",
       "      <td>232.330002</td>\n",
       "      <td>49169601.0</td>\n",
       "      <td>232.330002</td>\n",
       "    </tr>\n",
       "  </tbody>\n",
       "</table>\n",
       "</div>"
      ],
      "text/plain": [
       "                  High         Low        Open       Close      Volume  \\\n",
       "Date                                                                     \n",
       "2021-01-20  225.789993  217.289993  217.699997  224.339996  37777300.0   \n",
       "2021-01-21  226.300003  222.419998  224.699997  224.970001  30749600.0   \n",
       "2021-01-22  230.070007  225.800003  227.080002  225.949997  30124900.0   \n",
       "2021-01-25  229.779999  224.220001  229.119995  229.529999  33152100.0   \n",
       "2021-01-26  234.179993  230.080002  231.860001  232.330002  49169601.0   \n",
       "\n",
       "             Adj Close  \n",
       "Date                    \n",
       "2021-01-20  224.339996  \n",
       "2021-01-21  224.970001  \n",
       "2021-01-22  225.949997  \n",
       "2021-01-25  229.529999  \n",
       "2021-01-26  232.330002  "
      ]
     },
     "execution_count": 4,
     "metadata": {},
     "output_type": "execute_result"
    }
   ],
   "source": [
    "dSec = 'MSFT'\n",
    "dSource = 'yahoo'\n",
    "dStart = '1995-1-1'\n",
    "secA = wb.DataReader(dSec,data_source=dSource,start = dStart)\n",
    "# Data check @ https://finance.yahoo.com/quote/MSFT/history?p=MSFT\n",
    "secA.tail()"
   ]
  },
  {
   "cell_type": "markdown",
   "metadata": {},
   "source": [
    "##### Data analysis"
   ]
  },
  {
   "cell_type": "markdown",
   "metadata": {},
   "source": [
    "### 1. Simple Return"
   ]
  },
  {
   "cell_type": "code",
   "execution_count": 5,
   "metadata": {
    "collapsed": true,
    "jupyter": {
     "outputs_hidden": true
    }
   },
   "outputs": [
    {
     "data": {
      "text/html": [
       "<div>\n",
       "<style scoped>\n",
       "    .dataframe tbody tr th:only-of-type {\n",
       "        vertical-align: middle;\n",
       "    }\n",
       "\n",
       "    .dataframe tbody tr th {\n",
       "        vertical-align: top;\n",
       "    }\n",
       "\n",
       "    .dataframe thead th {\n",
       "        text-align: right;\n",
       "    }\n",
       "</style>\n",
       "<table border=\"1\" class=\"dataframe\">\n",
       "  <thead>\n",
       "    <tr style=\"text-align: right;\">\n",
       "      <th></th>\n",
       "      <th>High</th>\n",
       "      <th>Low</th>\n",
       "      <th>Open</th>\n",
       "      <th>Close</th>\n",
       "      <th>Volume</th>\n",
       "      <th>Adj Close</th>\n",
       "      <th>Simple Return</th>\n",
       "    </tr>\n",
       "    <tr>\n",
       "      <th>Date</th>\n",
       "      <th></th>\n",
       "      <th></th>\n",
       "      <th></th>\n",
       "      <th></th>\n",
       "      <th></th>\n",
       "      <th></th>\n",
       "      <th></th>\n",
       "    </tr>\n",
       "  </thead>\n",
       "  <tbody>\n",
       "    <tr>\n",
       "      <th>1995-01-03</th>\n",
       "      <td>3.843750</td>\n",
       "      <td>3.757813</td>\n",
       "      <td>3.843750</td>\n",
       "      <td>3.761719</td>\n",
       "      <td>39545600.0</td>\n",
       "      <td>2.394761</td>\n",
       "      <td>NaN</td>\n",
       "    </tr>\n",
       "    <tr>\n",
       "      <th>1995-01-04</th>\n",
       "      <td>3.796875</td>\n",
       "      <td>3.718750</td>\n",
       "      <td>3.765625</td>\n",
       "      <td>3.789063</td>\n",
       "      <td>51611200.0</td>\n",
       "      <td>2.412169</td>\n",
       "      <td>0.007269</td>\n",
       "    </tr>\n",
       "    <tr>\n",
       "      <th>1995-01-05</th>\n",
       "      <td>3.812500</td>\n",
       "      <td>3.710938</td>\n",
       "      <td>3.804688</td>\n",
       "      <td>3.726563</td>\n",
       "      <td>39824000.0</td>\n",
       "      <td>2.372380</td>\n",
       "      <td>-0.016495</td>\n",
       "    </tr>\n",
       "    <tr>\n",
       "      <th>1995-01-06</th>\n",
       "      <td>3.828125</td>\n",
       "      <td>3.734375</td>\n",
       "      <td>3.742188</td>\n",
       "      <td>3.789063</td>\n",
       "      <td>46681600.0</td>\n",
       "      <td>2.412169</td>\n",
       "      <td>0.016772</td>\n",
       "    </tr>\n",
       "    <tr>\n",
       "      <th>1995-01-09</th>\n",
       "      <td>3.812500</td>\n",
       "      <td>3.734375</td>\n",
       "      <td>3.804688</td>\n",
       "      <td>3.765625</td>\n",
       "      <td>46000000.0</td>\n",
       "      <td>2.397249</td>\n",
       "      <td>-0.006186</td>\n",
       "    </tr>\n",
       "    <tr>\n",
       "      <th>...</th>\n",
       "      <td>...</td>\n",
       "      <td>...</td>\n",
       "      <td>...</td>\n",
       "      <td>...</td>\n",
       "      <td>...</td>\n",
       "      <td>...</td>\n",
       "      <td>...</td>\n",
       "    </tr>\n",
       "    <tr>\n",
       "      <th>2021-01-20</th>\n",
       "      <td>225.789993</td>\n",
       "      <td>217.289993</td>\n",
       "      <td>217.699997</td>\n",
       "      <td>224.339996</td>\n",
       "      <td>37777300.0</td>\n",
       "      <td>224.339996</td>\n",
       "      <td>0.036500</td>\n",
       "    </tr>\n",
       "    <tr>\n",
       "      <th>2021-01-21</th>\n",
       "      <td>226.300003</td>\n",
       "      <td>222.419998</td>\n",
       "      <td>224.699997</td>\n",
       "      <td>224.970001</td>\n",
       "      <td>30749600.0</td>\n",
       "      <td>224.970001</td>\n",
       "      <td>0.002808</td>\n",
       "    </tr>\n",
       "    <tr>\n",
       "      <th>2021-01-22</th>\n",
       "      <td>230.070007</td>\n",
       "      <td>225.800003</td>\n",
       "      <td>227.080002</td>\n",
       "      <td>225.949997</td>\n",
       "      <td>30124900.0</td>\n",
       "      <td>225.949997</td>\n",
       "      <td>0.004356</td>\n",
       "    </tr>\n",
       "    <tr>\n",
       "      <th>2021-01-25</th>\n",
       "      <td>229.779999</td>\n",
       "      <td>224.220001</td>\n",
       "      <td>229.119995</td>\n",
       "      <td>229.529999</td>\n",
       "      <td>33152100.0</td>\n",
       "      <td>229.529999</td>\n",
       "      <td>0.015844</td>\n",
       "    </tr>\n",
       "    <tr>\n",
       "      <th>2021-01-26</th>\n",
       "      <td>234.179993</td>\n",
       "      <td>230.080002</td>\n",
       "      <td>231.860001</td>\n",
       "      <td>232.330002</td>\n",
       "      <td>49169601.0</td>\n",
       "      <td>232.330002</td>\n",
       "      <td>0.012199</td>\n",
       "    </tr>\n",
       "  </tbody>\n",
       "</table>\n",
       "<p>6563 rows × 7 columns</p>\n",
       "</div>"
      ],
      "text/plain": [
       "                  High         Low        Open       Close      Volume  \\\n",
       "Date                                                                     \n",
       "1995-01-03    3.843750    3.757813    3.843750    3.761719  39545600.0   \n",
       "1995-01-04    3.796875    3.718750    3.765625    3.789063  51611200.0   \n",
       "1995-01-05    3.812500    3.710938    3.804688    3.726563  39824000.0   \n",
       "1995-01-06    3.828125    3.734375    3.742188    3.789063  46681600.0   \n",
       "1995-01-09    3.812500    3.734375    3.804688    3.765625  46000000.0   \n",
       "...                ...         ...         ...         ...         ...   \n",
       "2021-01-20  225.789993  217.289993  217.699997  224.339996  37777300.0   \n",
       "2021-01-21  226.300003  222.419998  224.699997  224.970001  30749600.0   \n",
       "2021-01-22  230.070007  225.800003  227.080002  225.949997  30124900.0   \n",
       "2021-01-25  229.779999  224.220001  229.119995  229.529999  33152100.0   \n",
       "2021-01-26  234.179993  230.080002  231.860001  232.330002  49169601.0   \n",
       "\n",
       "             Adj Close  Simple Return  \n",
       "Date                                   \n",
       "1995-01-03    2.394761            NaN  \n",
       "1995-01-04    2.412169       0.007269  \n",
       "1995-01-05    2.372380      -0.016495  \n",
       "1995-01-06    2.412169       0.016772  \n",
       "1995-01-09    2.397249      -0.006186  \n",
       "...                ...            ...  \n",
       "2021-01-20  224.339996       0.036500  \n",
       "2021-01-21  224.970001       0.002808  \n",
       "2021-01-22  225.949997       0.004356  \n",
       "2021-01-25  229.529999       0.015844  \n",
       "2021-01-26  232.330002       0.012199  \n",
       "\n",
       "[6563 rows x 7 columns]"
      ]
     },
     "execution_count": 5,
     "metadata": {},
     "output_type": "execute_result"
    }
   ],
   "source": [
    "secA['Simple Return'] = (secA['Adj Close']/secA['Adj Close'].shift(1))-1\n",
    "secA"
   ]
  },
  {
   "cell_type": "code",
   "execution_count": 6,
   "metadata": {},
   "outputs": [
    {
     "data": {
      "text/plain": [
       "pandas.core.frame.DataFrame"
      ]
     },
     "execution_count": 6,
     "metadata": {},
     "output_type": "execute_result"
    }
   ],
   "source": [
    "type(secA)"
   ]
  },
  {
   "cell_type": "code",
   "execution_count": null,
   "metadata": {
    "jupyter": {
     "outputs_hidden": true
    }
   },
   "outputs": [],
   "source": [
    "#Plotting\n",
    "secA['Simple Return'].plot(figsize=(8,5))\n",
    "plt.show\n",
    "#need "
   ]
  },
  {
   "cell_type": "markdown",
   "metadata": {},
   "source": [
    "### 1a. Average Simple Returns"
   ]
  },
  {
   "cell_type": "code",
   "execution_count": null,
   "metadata": {},
   "outputs": [],
   "source": [
    "avg_sReturn_d = secA['Simple Return'].mean()*250 #data provided only shows trading days per year, 250 is average yearly trading days\n",
    "print (str(round(avg_sReturn_d,5)*100)+'%')"
   ]
  },
  {
   "cell_type": "markdown",
   "metadata": {},
   "source": [
    "### 2. Log Return\n",
    "Calculate the Log returns for Microsoft.<br>\n",
    "Plot the results on a graph.<br>\n",
    "Estimate the daily and the annual mean of the obtained log returns.<br>\n",
    "Print the result in a presentable form.<br>\n",
    "$$\n",
    "ln(\\frac{P_t}{P_{t-1}})\n",
    "$$"
   ]
  },
  {
   "cell_type": "code",
   "execution_count": null,
   "metadata": {},
   "outputs": [],
   "source": [
    "dSec = 'MSFT'\n",
    "dSource = 'yahoo'\n",
    "dStart = '1995-1-1'\n",
    "secA = wb.DataReader(sec,data_source=dSource,start = dStart)"
   ]
  },
  {
   "cell_type": "code",
   "execution_count": null,
   "metadata": {
    "jupyter": {
     "outputs_hidden": true
    }
   },
   "outputs": [],
   "source": [
    "secA['log Return'] = np.log(secA['Adj Close']/secA['Adj Close'].shift(1))\n",
    "secA"
   ]
  },
  {
   "cell_type": "code",
   "execution_count": null,
   "metadata": {
    "jupyter": {
     "outputs_hidden": true
    }
   },
   "outputs": [],
   "source": [
    "secA['log Return'].plot(figsize=(8,5))"
   ]
  },
  {
   "cell_type": "markdown",
   "metadata": {},
   "source": [
    "Daily mean (avg_lReturn_d)"
   ]
  },
  {
   "cell_type": "code",
   "execution_count": null,
   "metadata": {
    "jupyter": {
     "outputs_hidden": true
    }
   },
   "outputs": [],
   "source": [
    "avg_lReturn_d = secA['log Return'].mean()\n",
    "avg_lReturn_d"
   ]
  },
  {
   "cell_type": "markdown",
   "metadata": {},
   "source": [
    "Annual mean (avg_lReturn_a), trading days only"
   ]
  },
  {
   "cell_type": "code",
   "execution_count": null,
   "metadata": {},
   "outputs": [],
   "source": [
    "avg_lReturn_d = secA['log Return'].mean()*250\n",
    "print (str(round(avg_lReturn_d,5)*100)+'%')"
   ]
  },
  {
   "cell_type": "code",
   "execution_count": null,
   "metadata": {},
   "outputs": [],
   "source": []
  }
 ],
 "metadata": {
  "kernelspec": {
   "display_name": "Python 3",
   "language": "python",
   "name": "python3"
  },
  "language_info": {
   "codemirror_mode": {
    "name": "ipython",
    "version": 3
   },
   "file_extension": ".py",
   "mimetype": "text/x-python",
   "name": "python",
   "nbconvert_exporter": "python",
   "pygments_lexer": "ipython3",
   "version": "3.7.6"
  }
 },
 "nbformat": 4,
 "nbformat_minor": 4
}
