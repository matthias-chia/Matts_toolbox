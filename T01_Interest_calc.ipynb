{
 "cells": [
  {
   "cell_type": "markdown",
   "metadata": {},
   "source": [
    "Compound interest on principal sum\n",
    "\n",
    "$$\n",
    "A = P \\times (1 + \\frac{r}{n})^{nt}\n",
    "$$\n",
    "\n",
    "P = The principal investment (the initial deposit or amount), as a dollar value <br>\n",
    "A = The future value of the investment/loan, including interest, as a dollar value<br>\n",
    "r = the annual interest rate, as a percent<br>\n",
    "n = the number of times that interest is compounded per year, e.g. 12 times per year is equivalent to compounded monthly<br>\n",
    "t = the number of years the money is invested or borrowed for, in years<br>"
   ]
  },
  {
   "cell_type": "code",
   "execution_count": 8,
   "metadata": {},
   "outputs": [
    {
     "name": "stdout",
     "output_type": "stream",
     "text": [
      "Accrued sum is:$ 133291.82 With an interest paid of:$ 83291.82\n"
     ]
    }
   ],
   "source": [
    "p = 50000\n",
    "r = 0.04 #4% per annum\n",
    "n =  # 12 for monthly,2 semi annually, 1 annually\n",
    "t = 25 # 25 years\n",
    "\n",
    "A = p*(1+r/n)**(n*t)\n",
    "print('Accrued sum is:$',round(A,2), 'With an interest paid of:$',round(A-p,2))"
   ]
  },
  {
   "cell_type": "markdown",
   "metadata": {},
   "source": [
    "Compound interest on principal sum with contributions\n",
    "\n",
    "$$\n",
    "A = P \\times (1 + \\frac{r}{n})^{nt} + \\frac{(1 + \\frac{r}{n})^{nt}-1}{\\frac{r}{n}}\n",
    "$$\n",
    "\n",
    "P = The principal investment (the initial deposit or amount), as a dollar value\n",
    "PMT = The monthly repayment\n",
    "A = The future value of the investment/loan, including interest, as a dollar value\n",
    "r = the annual interest rate, as a percent\n",
    "n = the number of times that interest is compounded per year, e.g. 12 times per year is equivalent to compounded monthly\n",
    "t = the number of years the money is invested or borrowed for, in years\n",
    "\n",
    "https://structx.com/annual_compound_interest_with_contributions.html"
   ]
  },
  {
   "cell_type": "code",
   "execution_count": null,
   "metadata": {},
   "outputs": [],
   "source": []
  }
 ],
 "metadata": {
  "kernelspec": {
   "display_name": "Python 3",
   "language": "python",
   "name": "python3"
  },
  "language_info": {
   "codemirror_mode": {
    "name": "ipython",
    "version": 3
   },
   "file_extension": ".py",
   "mimetype": "text/x-python",
   "name": "python",
   "nbconvert_exporter": "python",
   "pygments_lexer": "ipython3",
   "version": "3.7.6"
  }
 },
 "nbformat": 4,
 "nbformat_minor": 4
}
