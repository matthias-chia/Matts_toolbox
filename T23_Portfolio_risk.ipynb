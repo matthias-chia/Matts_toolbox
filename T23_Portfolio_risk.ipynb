{
 "cells": [
  {
   "cell_type": "markdown",
   "metadata": {},
   "source": [
    "### 1. Calculating portfolio risk\n",
    "\n",
    "*Math behind this is not presented, more research required to understand how (A. variance of securities, B. covariance (calculate weighting matrix)) is linked to determine a portfolio's risk(variance of portfolio) and subsequently standard deviation(for volatility)\n",
    "\n",
    "Risk may defined as the volatility(standard deviation) from the expectation(use mean for the time being)),  Optimisation techniques later use the idea of diversification (through the covariance to the other securities in the portfolio.) to negate risk by finding perfectly non-correlated stock of ( <br>\n",
    "\n",
    "expectation is the (return x probability), assume probability is normal distributed around the mean <br>\n",
    "\n",
    "$\\text{Further Work}$\n",
    "* T22.ipynb shows the various building blocks, TBC <br>\n",
    "* Correlation is used here due to covariance being calculated through pearson correlation matrix"
   ]
  },
  {
   "cell_type": "markdown",
   "metadata": {},
   "source": [
    "#### Variables\n",
    "\n",
    "1. 2 tickers, more can be added\n",
    "2. Data Source: 'Yahoo'\n",
    "3. Data used for returns: 'Adj close', adjusted closing price\n",
    "4. Data range: from '2007-1-1' to today"
   ]
  },
  {
   "cell_type": "code",
   "execution_count": 1,
   "metadata": {
    "collapsed": true,
    "jupyter": {
     "outputs_hidden": true
    }
   },
   "outputs": [
    {
     "data": {
      "text/html": [
       "<div>\n",
       "<style scoped>\n",
       "    .dataframe tbody tr th:only-of-type {\n",
       "        vertical-align: middle;\n",
       "    }\n",
       "\n",
       "    .dataframe tbody tr th {\n",
       "        vertical-align: top;\n",
       "    }\n",
       "\n",
       "    .dataframe thead th {\n",
       "        text-align: right;\n",
       "    }\n",
       "</style>\n",
       "<table border=\"1\" class=\"dataframe\">\n",
       "  <thead>\n",
       "    <tr style=\"text-align: right;\">\n",
       "      <th></th>\n",
       "      <th>PG</th>\n",
       "      <th>BEI.DE</th>\n",
       "    </tr>\n",
       "    <tr>\n",
       "      <th>Date</th>\n",
       "      <th></th>\n",
       "      <th></th>\n",
       "    </tr>\n",
       "  </thead>\n",
       "  <tbody>\n",
       "    <tr>\n",
       "      <th>2007-01-03</th>\n",
       "      <td>NaN</td>\n",
       "      <td>NaN</td>\n",
       "    </tr>\n",
       "    <tr>\n",
       "      <th>2007-01-04</th>\n",
       "      <td>-0.007621</td>\n",
       "      <td>0.006544</td>\n",
       "    </tr>\n",
       "    <tr>\n",
       "      <th>2007-01-05</th>\n",
       "      <td>-0.008624</td>\n",
       "      <td>-0.020772</td>\n",
       "    </tr>\n",
       "    <tr>\n",
       "      <th>2007-01-08</th>\n",
       "      <td>0.002202</td>\n",
       "      <td>0.000202</td>\n",
       "    </tr>\n",
       "    <tr>\n",
       "      <th>2007-01-09</th>\n",
       "      <td>-0.002517</td>\n",
       "      <td>-0.022858</td>\n",
       "    </tr>\n",
       "    <tr>\n",
       "      <th>...</th>\n",
       "      <td>...</td>\n",
       "      <td>...</td>\n",
       "    </tr>\n",
       "    <tr>\n",
       "      <th>2020-12-24</th>\n",
       "      <td>0.010071</td>\n",
       "      <td>NaN</td>\n",
       "    </tr>\n",
       "    <tr>\n",
       "      <th>2020-12-28</th>\n",
       "      <td>0.006946</td>\n",
       "      <td>NaN</td>\n",
       "    </tr>\n",
       "    <tr>\n",
       "      <th>2020-12-29</th>\n",
       "      <td>-0.001877</td>\n",
       "      <td>0.005887</td>\n",
       "    </tr>\n",
       "    <tr>\n",
       "      <th>2020-12-30</th>\n",
       "      <td>-0.004707</td>\n",
       "      <td>-0.010114</td>\n",
       "    </tr>\n",
       "    <tr>\n",
       "      <th>2020-12-31</th>\n",
       "      <td>0.009895</td>\n",
       "      <td>NaN</td>\n",
       "    </tr>\n",
       "  </tbody>\n",
       "</table>\n",
       "<p>3525 rows × 2 columns</p>\n",
       "</div>"
      ],
      "text/plain": [
       "                  PG    BEI.DE\n",
       "Date                          \n",
       "2007-01-03       NaN       NaN\n",
       "2007-01-04 -0.007621  0.006544\n",
       "2007-01-05 -0.008624 -0.020772\n",
       "2007-01-08  0.002202  0.000202\n",
       "2007-01-09 -0.002517 -0.022858\n",
       "...              ...       ...\n",
       "2020-12-24  0.010071       NaN\n",
       "2020-12-28  0.006946       NaN\n",
       "2020-12-29 -0.001877  0.005887\n",
       "2020-12-30 -0.004707 -0.010114\n",
       "2020-12-31  0.009895       NaN\n",
       "\n",
       "[3525 rows x 2 columns]"
      ]
     },
     "execution_count": 1,
     "metadata": {},
     "output_type": "execute_result"
    }
   ],
   "source": [
    "import numpy as np #to work with multidimensional arrays\n",
    "import pandas as pd #PANel DAta, organise arrays in tables and attach descriptive labels, time series and big database\n",
    "import matplotlib.pyplot as plt #2D plotting visuals of numpy computation\n",
    "from pandas_datareader import data as wb\n",
    "\n",
    "ticker_1 = 'PG'\n",
    "ticker_2 = 'BEI.DE'\n",
    "#ticker_3 = 'PFE'\n",
    "tickers = [ticker_1 , ticker_2 ]\n",
    "\n",
    "sec_Data = pd.DataFrame()\n",
    "for t in tickers:\n",
    "    sec_Data[t] = wb.DataReader(t, data_source='yahoo', start='2007-1-1')['Adj Close']\n",
    "\n",
    "sec_returns = np.log(sec_Data / sec_Data.shift(1))\n",
    "sec_returns"
   ]
  },
  {
   "cell_type": "markdown",
   "metadata": {},
   "source": [
    "Equal weighting scheme:"
   ]
  },
  {
   "cell_type": "code",
   "execution_count": 2,
   "metadata": {},
   "outputs": [
    {
     "data": {
      "text/plain": [
       "2"
      ]
     },
     "execution_count": 2,
     "metadata": {},
     "output_type": "execute_result"
    }
   ],
   "source": [
    "num = len(tickers) #check #print(num)\n",
    "num"
   ]
  },
  {
   "cell_type": "code",
   "execution_count": 3,
   "metadata": {},
   "outputs": [
    {
     "data": {
      "text/plain": [
       "array([0.5, 0.5])"
      ]
     },
     "execution_count": 3,
     "metadata": {},
     "output_type": "execute_result"
    }
   ],
   "source": [
    "#Equal weights using an python array for 2 securities, figure out how to define an open array\n",
    "#weights = np.array([0.5, 0.5])\n",
    "#weights\n",
    "\n",
    "#Equal weights using an python array \n",
    "x=0\n",
    "a=[] #create a list\n",
    "while x< num: #fill list\n",
    "    a.append(1/num)\n",
    "    x+=1\n",
    "weights = np.array(a) #insert into array\n",
    "weights\n",
    "\n",
    "#Random weights using a python array\n",
    "#weights=[]\n",
    "#weights = np.random.random(num) #using numpy array\n",
    "#weights /= np.sum(weights) #check print(weights) #print(weights[0]+weights[1])"
   ]
  },
  {
   "cell_type": "markdown",
   "metadata": {},
   "source": [
    "Portfolio Variance $(s^2)$ with $(s = w \\cdot Cov)$ : <br>\n",
    "given by the square of the (dot product of the weights(array, n by 1 vector) and covariance matrix(n by n matrix)\n",
    "$$\n",
    "(w\\cdot Cov)^2 = w^T \\cdot Cov \\cdot w\n",
    "$$\n",
    "\n",
    "see linear algebra (Strang) on matrix multiplication\n",
    "\n",
    "Need to verify:\n",
    "1. Portfolio variance equation\n",
    "2. Matrix multiplication \n"
   ]
  },
  {
   "cell_type": "code",
   "execution_count": 4,
   "metadata": {},
   "outputs": [
    {
     "data": {
      "text/plain": [
       "0.026409940959967758"
      ]
     },
     "execution_count": 4,
     "metadata": {},
     "output_type": "execute_result"
    }
   ],
   "source": [
    "pfolio_var = np.dot(weights.T, np.dot(sec_returns.cov() * 250, weights))\n",
    "pfolio_var"
   ]
  },
  {
   "cell_type": "markdown",
   "metadata": {},
   "source": [
    "Portfolio Volatility:\n",
    "\n",
    "defined as standard deviation from the mean \n",
    "\n",
    "To confirm:<br>\n",
    "1. if using normal distribution"
   ]
  },
  {
   "cell_type": "code",
   "execution_count": 5,
   "metadata": {},
   "outputs": [
    {
     "name": "stdout",
     "output_type": "stream",
     "text": [
      "16.250999999999998 %\n"
     ]
    }
   ],
   "source": [
    "pfolio_vol = pfolio_var ** 0.5\n",
    "#pfolio_vol\n",
    "\n",
    "print (str(round(pfolio_vol, 5) * 100) + ' %')"
   ]
  },
  {
   "cell_type": "markdown",
   "metadata": {},
   "source": [
    "### Types of risk\n",
    "\n",
    "1. Systematic risk (non-diversifiable) - This is the uncertainty that is characteristic of the entire market. Systematic risk is made of the day to day changes in stock prices and is caused by events that affect all companies (Recession, low consumer spending, wars and forces of nature)\n",
    "\n",
    "2. Unsystematic risk (diversifiable) - These are company-specific, even industry-specific, risks that can be smoothed out through diversification, aka idiosyncratic risk, (reference needed?) diversifiable risk can be elimated when investing in up to 25 $\\textbf{non-correlated}$ securities \n",
    "\n"
   ]
  },
  {
   "cell_type": "markdown",
   "metadata": {},
   "source": [
    "### 2. Calculating Diversifiable and Non-Diversifiable Risk of a Portfolio (To be developed)\n",
    "\n",
    "To be further developed for \n",
    "1. portfolio >2 securities\n",
    "2. non equally weighted portfolios\n",
    "\n",
    "diversifiable risk = portfolio variance - weighted annual variance"
   ]
  },
  {
   "cell_type": "markdown",
   "metadata": {},
   "source": [
    "Diversifiable risk"
   ]
  },
  {
   "cell_type": "code",
   "execution_count": 6,
   "metadata": {},
   "outputs": [
    {
     "data": {
      "text/plain": [
       "{'Portfolio variance': 0.026409940959967758,\n",
       " 'Annual variance T1': 0.035278550174224634,\n",
       " 'Weighted annual variance T1': 0.008819637543556158,\n",
       " 'Annual variance T2': 0.04810672291220891,\n",
       " 'Weighted annual variance T2': 0.012026680728052228}"
      ]
     },
     "execution_count": 6,
     "metadata": {},
     "output_type": "execute_result"
    }
   ],
   "source": [
    "drArray={}\n",
    "#portfolio variance\n",
    "drArray['Portfolio variance'] = pfolio_var\n",
    "#Annual variance T1\n",
    "T1_var_a = sec_returns[ticker_1].var() * 250\n",
    "drArray['Annual variance T1'] = T1_var_a\n",
    "#Weighted annual variance T1\n",
    "T1_var_wa = weights[0] ** 2 * T1_var_a #Need to cross reference weights if non-equally weighted portfolio\n",
    "drArray['Weighted annual variance T1'] = T1_var_wa \n",
    "#Annual variance T2\n",
    "T2_var_a = sec_returns[ticker_2].var() * 250\n",
    "drArray['Annual variance T2'] = T2_var_a\n",
    "#Weighted annual variance T2\n",
    "T2_var_wa = weights[1] ** 2 * T2_var_a #Need to cross reference weights if non-equally weighted portfolio\n",
    "drArray['Weighted annual variance T2'] = T2_var_wa\n",
    "drArray\n"
   ]
  },
  {
   "cell_type": "code",
   "execution_count": 7,
   "metadata": {},
   "outputs": [
    {
     "data": {
      "text/plain": [
       "0.005563622688359374"
      ]
     },
     "execution_count": 7,
     "metadata": {},
     "output_type": "execute_result"
    }
   ],
   "source": [
    "dr = pfolio_var - T1_var_wa - T2_var_wa\n",
    "dr"
   ]
  },
  {
   "cell_type": "markdown",
   "metadata": {},
   "source": [
    "Non-Diversifiable Risk:"
   ]
  },
  {
   "cell_type": "code",
   "execution_count": 8,
   "metadata": {},
   "outputs": [
    {
     "data": {
      "text/plain": [
       "0.020846318271608384"
      ]
     },
     "execution_count": 8,
     "metadata": {},
     "output_type": "execute_result"
    }
   ],
   "source": [
    "n_dr_1 = pfolio_var - dr\n",
    "n_dr_1"
   ]
  },
  {
   "cell_type": "code",
   "execution_count": 9,
   "metadata": {},
   "outputs": [
    {
     "data": {
      "text/plain": [
       "0.020846318271608384"
      ]
     },
     "execution_count": 9,
     "metadata": {},
     "output_type": "execute_result"
    }
   ],
   "source": [
    "n_dr_2 = T1_var_wa + T2_var_wa\n",
    "n_dr_2"
   ]
  },
  {
   "cell_type": "code",
   "execution_count": 10,
   "metadata": {},
   "outputs": [
    {
     "data": {
      "text/plain": [
       "True"
      ]
     },
     "execution_count": 10,
     "metadata": {},
     "output_type": "execute_result"
    }
   ],
   "source": [
    "n_dr_1 == n_dr_2"
   ]
  },
  {
   "cell_type": "code",
   "execution_count": null,
   "metadata": {},
   "outputs": [],
   "source": []
  }
 ],
 "metadata": {
  "kernelspec": {
   "display_name": "Python 3",
   "language": "python",
   "name": "python3"
  },
  "language_info": {
   "codemirror_mode": {
    "name": "ipython",
    "version": 3
   },
   "file_extension": ".py",
   "mimetype": "text/x-python",
   "name": "python",
   "nbconvert_exporter": "python",
   "pygments_lexer": "ipython3",
   "version": "3.7.6"
  }
 },
 "nbformat": 4,
 "nbformat_minor": 4
}
