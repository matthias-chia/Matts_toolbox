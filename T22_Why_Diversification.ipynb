{
 "cells": [
  {
   "cell_type": "markdown",
   "metadata": {},
   "source": [
    "### Correlation between securities\n",
    "\n",
    "$\\sigma_{x,y}$ is the covariance\n",
    "\n",
    "if $\\sigma$ >0 ,variables move in the same direction <br>\n",
    "if $\\sigma$ <0 ,variables move in the opposite direction <br>\n",
    "if $\\sigma$ =0 ,variables are independent <br>\n",
    "\n",
    "$$\n",
    "\\sigma_{x,y}=\\frac{(x-\\bar{x})(y-\\bar{y})}{n-1}\n",
    "$$\n",
    "\n",
    "Correlation coefficient is used to explain covariance\n",
    "\n",
    "if correlation = 1 ,variables are (perfectly) related and move in the same direction <br>\n",
    "if correlation = -1,variables are not related and  move in the opposite direction <br>\n",
    "if correlation = 0 ,variables are independent <br>\n",
    "\n",
    "Covariance matrix \n",
    "\\begin{eqnarray*}\n",
    "Covariance Matrix: \\  \\   \n",
    "\\Sigma = \\begin{bmatrix}\n",
    "        \\sigma_{1}^2 \\ \\sigma_{12} \\ \\dots \\ \\sigma_{1I} \\\\\n",
    "        \\sigma_{21} \\ \\sigma_{2}^2 \\ \\dots \\ \\sigma_{2I} \\\\\n",
    "        \\vdots \\ \\vdots \\ \\ddots \\ \\vdots \\\\\n",
    "        \\sigma_{I1} \\ \\sigma_{I2} \\ \\dots \\ \\sigma_{I}^2\n",
    "    \\end{bmatrix}\n",
    "\\end{eqnarray*}\n",
    "\n",
    "https://en.wikipedia.org/wiki/Pearson_correlation_coefficient"
   ]
  },
  {
   "cell_type": "markdown",
   "metadata": {},
   "source": [
    "### Import packages"
   ]
  },
  {
   "cell_type": "code",
   "execution_count": 1,
   "metadata": {},
   "outputs": [],
   "source": [
    "import numpy as np #to work with multidimensional arrays\n",
    "import pandas as pd #PANel DAta, organise arrays in tables and attach descriptive labels, time series and big database\n",
    "import matplotlib.pyplot as plt #2D plotting visuals of numpy computation\n",
    "from pandas_datareader import data as wb"
   ]
  },
  {
   "cell_type": "markdown",
   "metadata": {},
   "source": [
    "### Import data\n",
    "\n",
    "ticker holders have been created for easy changes in analysis. see ticker 1 & 2."
   ]
  },
  {
   "cell_type": "code",
   "execution_count": 2,
   "metadata": {},
   "outputs": [],
   "source": [
    "ticker_1 = 'PG'\n",
    "ticker_2 = 'BEI.DE'\n",
    "tickers = [ticker_1 , ticker_2]\n",
    "\n",
    "sec_Data = pd.DataFrame()\n",
    "for t in tickers:\n",
    "    sec_Data[t] = wb.DataReader(t, data_source='yahoo', start='2007-1-1')['Adj Close']"
   ]
  },
  {
   "cell_type": "markdown",
   "metadata": {},
   "source": [
    "### Calculate log returns and store in array\n",
    "\n",
    "this correlation algorithm calculates the person correlation coefficient for the log return between multiple securities starting from the same date"
   ]
  },
  {
   "cell_type": "code",
   "execution_count": 3,
   "metadata": {},
   "outputs": [],
   "source": [
    "sec_returns = np.log(sec_Data / sec_Data.shift(1))"
   ]
  },
  {
   "cell_type": "markdown",
   "metadata": {},
   "source": [
    "### Single Ticker analysis (Ticker 1)\n",
    "\n",
    "to reference sigma in covariance matrix, find individual sigmas\n",
    "\n",
    "(why must find returns? or is this data entry?"
   ]
  },
  {
   "cell_type": "code",
   "execution_count": 4,
   "metadata": {},
   "outputs": [
    {
     "data": {
      "text/plain": [
       "{'daily mean returns': 0.00034,\n",
       " 'annual mean returns': 0.08391,\n",
       " 'daily standard deviation': 0.01188,\n",
       " 'annual standard deviation': 0.18783}"
      ]
     },
     "execution_count": 4,
     "metadata": {},
     "output_type": "execute_result"
    }
   ],
   "source": [
    "rArray = {}\n",
    "#daily mean returns\n",
    "rArray['daily mean returns'] = round(sec_returns[ticker_1].mean(),5)\n",
    "#annual mean returns\n",
    "rArray['annual mean returns'] = round(sec_returns[ticker_1].mean() * 250,5)\n",
    "#daily standard deviation\n",
    "rArray['daily standard deviation'] = round(sec_returns[ticker_1].std(),5)\n",
    "#annual standard deviation\n",
    "rArray['annual standard deviation'] = round(sec_returns[ticker_1].std() * 250 ** 0.5,5)\n",
    "\n",
    "rArray"
   ]
  },
  {
   "cell_type": "markdown",
   "metadata": {},
   "source": [
    "Similiar for comparing 2 tickers, use array, [?] = 1d, [[?]] = 2d"
   ]
  },
  {
   "cell_type": "code",
   "execution_count": 5,
   "metadata": {},
   "outputs": [
    {
     "data": {
      "text/plain": [
       "PG        0.187826\n",
       "BEI.DE    0.219332\n",
       "dtype: float64"
      ]
     },
     "execution_count": 5,
     "metadata": {},
     "output_type": "execute_result"
    }
   ],
   "source": [
    "sec_returns[['PG', 'BEI.DE']].std() * 250 ** 0.5"
   ]
  },
  {
   "cell_type": "markdown",
   "metadata": {},
   "source": [
    "Variance and covariance calculations for t1 and t2, add for more tickers"
   ]
  },
  {
   "cell_type": "code",
   "execution_count": 6,
   "metadata": {},
   "outputs": [
    {
     "name": "stdout",
     "output_type": "stream",
     "text": [
      "T1:  PG T2:  BEI.DE\n"
     ]
    },
    {
     "data": {
      "text/plain": [
       "{'daily mean returns variance T1': 0.00014,\n",
       " 'annual mean returns variance T1': 0.03528,\n",
       " 'daily mean returns variance T2': 0.00019,\n",
       " 'annual mean returns variance T2': 0.04811}"
      ]
     },
     "execution_count": 6,
     "metadata": {},
     "output_type": "execute_result"
    }
   ],
   "source": [
    "vArray = {}\n",
    "#daily mean returns variance, t1\n",
    "vArray['daily mean returns variance T1'] = round(sec_returns[ticker_1].var() ,5)\n",
    "#annual mean returns variance, t1\n",
    "vArray['annual mean returns variance T1'] = round(sec_returns[ticker_1].var() * 250,5)\n",
    "#daily mean returns variance, t2\n",
    "vArray['daily mean returns variance T2'] = round(sec_returns[ticker_2].var() ,5)\n",
    "#annual mean returns variance, t2\n",
    "vArray['annual mean returns variance T2'] = round(sec_returns[ticker_2].var() * 250,5)\n",
    "\n",
    "print('T1: ',ticker_1, 'T2: ',ticker_2 )\n",
    "vArray"
   ]
  },
  {
   "cell_type": "markdown",
   "metadata": {},
   "source": [
    "### Multiple Ticker covariance analysis (Ticker 1 & 2)\n",
    "\n",
    "Covariance matrix \n",
    "\\begin{eqnarray*}\n",
    "Covariance Matrix: \\  \\   \n",
    "\\Sigma = \\begin{bmatrix}\n",
    "        \\sigma_{1}^2 \\ \\sigma_{12} \\ \\dots \\ \\sigma_{1I} \\\\\n",
    "        \\sigma_{21} \\ \\sigma_{2}^2 \\ \\dots \\ \\sigma_{2I} \\\\\n",
    "        \\vdots \\ \\vdots \\ \\ddots \\ \\vdots \\\\\n",
    "        \\sigma_{I1} \\ \\sigma_{I2} \\ \\dots \\ \\sigma_{I}^2\n",
    "    \\end{bmatrix}\n",
    "\\end{eqnarray*}\n"
   ]
  },
  {
   "cell_type": "code",
   "execution_count": 7,
   "metadata": {},
   "outputs": [
    {
     "data": {
      "text/html": [
       "<div>\n",
       "<style scoped>\n",
       "    .dataframe tbody tr th:only-of-type {\n",
       "        vertical-align: middle;\n",
       "    }\n",
       "\n",
       "    .dataframe tbody tr th {\n",
       "        vertical-align: top;\n",
       "    }\n",
       "\n",
       "    .dataframe thead th {\n",
       "        text-align: right;\n",
       "    }\n",
       "</style>\n",
       "<table border=\"1\" class=\"dataframe\">\n",
       "  <thead>\n",
       "    <tr style=\"text-align: right;\">\n",
       "      <th></th>\n",
       "      <th>PG</th>\n",
       "      <th>BEI.DE</th>\n",
       "    </tr>\n",
       "  </thead>\n",
       "  <tbody>\n",
       "    <tr>\n",
       "      <th>PG</th>\n",
       "      <td>0.000141</td>\n",
       "      <td>0.000045</td>\n",
       "    </tr>\n",
       "    <tr>\n",
       "      <th>BEI.DE</th>\n",
       "      <td>0.000045</td>\n",
       "      <td>0.000192</td>\n",
       "    </tr>\n",
       "  </tbody>\n",
       "</table>\n",
       "</div>"
      ],
      "text/plain": [
       "              PG    BEI.DE\n",
       "PG      0.000141  0.000045\n",
       "BEI.DE  0.000045  0.000192"
      ]
     },
     "execution_count": 7,
     "metadata": {},
     "output_type": "execute_result"
    }
   ],
   "source": [
    "cov_matrix = sec_returns.cov()\n",
    "cov_matrix #compare covariance matrix with individual analysis"
   ]
  },
  {
   "cell_type": "code",
   "execution_count": 9,
   "metadata": {},
   "outputs": [
    {
     "data": {
      "text/html": [
       "<div>\n",
       "<style scoped>\n",
       "    .dataframe tbody tr th:only-of-type {\n",
       "        vertical-align: middle;\n",
       "    }\n",
       "\n",
       "    .dataframe tbody tr th {\n",
       "        vertical-align: top;\n",
       "    }\n",
       "\n",
       "    .dataframe thead th {\n",
       "        text-align: right;\n",
       "    }\n",
       "</style>\n",
       "<table border=\"1\" class=\"dataframe\">\n",
       "  <thead>\n",
       "    <tr style=\"text-align: right;\">\n",
       "      <th></th>\n",
       "      <th>PG</th>\n",
       "      <th>BEI.DE</th>\n",
       "    </tr>\n",
       "  </thead>\n",
       "  <tbody>\n",
       "    <tr>\n",
       "      <th>PG</th>\n",
       "      <td>1.000000</td>\n",
       "      <td>0.269576</td>\n",
       "    </tr>\n",
       "    <tr>\n",
       "      <th>BEI.DE</th>\n",
       "      <td>0.269576</td>\n",
       "      <td>1.000000</td>\n",
       "    </tr>\n",
       "  </tbody>\n",
       "</table>\n",
       "</div>"
      ],
      "text/plain": [
       "              PG    BEI.DE\n",
       "PG      1.000000  0.269576\n",
       "BEI.DE  0.269576  1.000000"
      ]
     },
     "execution_count": 9,
     "metadata": {},
     "output_type": "execute_result"
    }
   ],
   "source": [
    "#normalising the center diagonal through the pearson correlation coefficient\n",
    "corr_matrix = sec_returns.corr()\n",
    "corr_matrix"
   ]
  },
  {
   "cell_type": "markdown",
   "metadata": {},
   "source": [
    "what can we say about the correlation between the 2 securities?"
   ]
  },
  {
   "cell_type": "markdown",
   "metadata": {},
   "source": [
    "### Calculating portfolio risk (only 2 securities)\n",
    "\n",
    "Portfolio variance is a measure of the dispersion of returns of a portfolio. It is the aggregate of the actual returns of a given portfolio over a set period of time. \n",
    "\n",
    "it requires (1) the weights of the security $(w)$ (2) variance of the all the securities $(\\sigma^2)$ and where $(\\sigma)$ is the standard deviation (and used to define volatility)\n",
    "\n",
    "it is calculated with this formula:\n",
    "\n",
    "Portfolio Variance $(s^2)$ with $(s = w \\cdot Cov)$ : <br>\n",
    "given by the square of the (dot product of the weights(array, n by 1 vector) and covariance matrix(n by n matrix)\n",
    "$$\n",
    "(\\sum w \\cdot Cov)^2 \n",
    "$$\n",
    "\n",
    "#### this is easily calculated up to 2 variables, linear algebra is required for additional (>3) securities due to the covariances ** covariances are equal for up to 2 securities (See 2x2 matrix in examples)\n",
    "\n",
    "How to calculate the portfolio variance of >3 assets, what the the theory behind this. Course does not explain the equation for portfolio risk well. it is the \n",
    "risk of a security is the standard deviation of that security <br>\n",
    "how is correlation and variance of various stock used to determine partfolio risk? <br>\n",
    "\n",
    "\n",
    "https://www.investopedia.com/ask/answers/071515/how-can-i-measure-portfolio-variance.asp#:~:text=Portfolio%20variance%20is%20a%20measure,between%20securities%20in%20the%20portfolio."
   ]
  },
  {
   "cell_type": "code",
   "execution_count": null,
   "metadata": {},
   "outputs": [],
   "source": []
  },
  {
   "cell_type": "code",
   "execution_count": null,
   "metadata": {},
   "outputs": [],
   "source": []
  }
 ],
 "metadata": {
  "kernelspec": {
   "display_name": "Python 3",
   "language": "python",
   "name": "python3"
  },
  "language_info": {
   "codemirror_mode": {
    "name": "ipython",
    "version": 3
   },
   "file_extension": ".py",
   "mimetype": "text/x-python",
   "name": "python",
   "nbconvert_exporter": "python",
   "pygments_lexer": "ipython3",
   "version": "3.7.6"
  }
 },
 "nbformat": 4,
 "nbformat_minor": 4
}
